{
 "cells": [
  {
   "cell_type": "markdown",
   "id": "located-entrance",
   "metadata": {
    "id": "located-entrance"
   },
   "source": [
    "### Import modules"
   ]
  },
  {
   "cell_type": "code",
   "execution_count": 1,
   "id": "hundred-investigation",
   "metadata": {
    "colab": {
     "base_uri": "https://localhost:8080/"
    },
    "id": "hundred-investigation",
    "outputId": "5be9fd48-bbf1-4a17-ca9a-d4cad899d653"
   },
   "outputs": [
    {
     "name": "stdout",
     "output_type": "stream",
     "text": [
      "1.2.3\n",
      "1.20.1\n"
     ]
    }
   ],
   "source": [
    "import pandas as pd\n",
    "import numpy as np\n",
    "\n",
    "print(pd.__version__)\n",
    "print(np.__version__)"
   ]
  },
  {
   "cell_type": "markdown",
   "id": "floral-postage",
   "metadata": {},
   "source": [
    "### Membaca data set "
   ]
  },
  {
   "cell_type": "code",
   "execution_count": 2,
   "id": "woY8ktDemc8Z",
   "metadata": {
    "colab": {
     "base_uri": "https://localhost:8080/",
     "height": 359
    },
    "id": "woY8ktDemc8Z",
    "outputId": "2bea5396-af25-468e-cb3a-2716747ac5f6"
   },
   "outputs": [
    {
     "data": {
      "text/html": [
       "<div>\n",
       "<style scoped>\n",
       "    .dataframe tbody tr th:only-of-type {\n",
       "        vertical-align: middle;\n",
       "    }\n",
       "\n",
       "    .dataframe tbody tr th {\n",
       "        vertical-align: top;\n",
       "    }\n",
       "\n",
       "    .dataframe thead th {\n",
       "        text-align: right;\n",
       "    }\n",
       "</style>\n",
       "<table border=\"1\" class=\"dataframe\">\n",
       "  <thead>\n",
       "    <tr style=\"text-align: right;\">\n",
       "      <th></th>\n",
       "      <th>Tanggal</th>\n",
       "      <th>Tavg</th>\n",
       "      <th>RH_avg</th>\n",
       "      <th>ss</th>\n",
       "      <th>ff_avg</th>\n",
       "      <th>RR</th>\n",
       "    </tr>\n",
       "  </thead>\n",
       "  <tbody>\n",
       "    <tr>\n",
       "      <th>0</th>\n",
       "      <td>01-01-2015</td>\n",
       "      <td>25.3</td>\n",
       "      <td>88.0</td>\n",
       "      <td>0.0</td>\n",
       "      <td>4.0</td>\n",
       "      <td>23.9</td>\n",
       "    </tr>\n",
       "    <tr>\n",
       "      <th>1</th>\n",
       "      <td>02-01-2015</td>\n",
       "      <td>26.3</td>\n",
       "      <td>85.0</td>\n",
       "      <td>0.0</td>\n",
       "      <td>4.0</td>\n",
       "      <td>10.5</td>\n",
       "    </tr>\n",
       "    <tr>\n",
       "      <th>2</th>\n",
       "      <td>03-01-2015</td>\n",
       "      <td>25.8</td>\n",
       "      <td>90.0</td>\n",
       "      <td>1.9</td>\n",
       "      <td>4.0</td>\n",
       "      <td>9.7</td>\n",
       "    </tr>\n",
       "    <tr>\n",
       "      <th>3</th>\n",
       "      <td>04-01-2015</td>\n",
       "      <td>NaN</td>\n",
       "      <td>NaN</td>\n",
       "      <td>NaN</td>\n",
       "      <td>NaN</td>\n",
       "      <td>NaN</td>\n",
       "    </tr>\n",
       "    <tr>\n",
       "      <th>4</th>\n",
       "      <td>05-01-2015</td>\n",
       "      <td>26.9</td>\n",
       "      <td>81.0</td>\n",
       "      <td>0.5</td>\n",
       "      <td>5.0</td>\n",
       "      <td>5.9</td>\n",
       "    </tr>\n",
       "    <tr>\n",
       "      <th>5</th>\n",
       "      <td>06-01-2015</td>\n",
       "      <td>27.5</td>\n",
       "      <td>78.0</td>\n",
       "      <td>8.2</td>\n",
       "      <td>5.0</td>\n",
       "      <td>0.0</td>\n",
       "    </tr>\n",
       "    <tr>\n",
       "      <th>6</th>\n",
       "      <td>07-01-2015</td>\n",
       "      <td>28.0</td>\n",
       "      <td>79.0</td>\n",
       "      <td>4.5</td>\n",
       "      <td>5.0</td>\n",
       "      <td>0.0</td>\n",
       "    </tr>\n",
       "    <tr>\n",
       "      <th>7</th>\n",
       "      <td>08-01-2015</td>\n",
       "      <td>NaN</td>\n",
       "      <td>NaN</td>\n",
       "      <td>NaN</td>\n",
       "      <td>NaN</td>\n",
       "      <td>NaN</td>\n",
       "    </tr>\n",
       "    <tr>\n",
       "      <th>8</th>\n",
       "      <td>09-01-2015</td>\n",
       "      <td>27.9</td>\n",
       "      <td>78.0</td>\n",
       "      <td>4.4</td>\n",
       "      <td>6.0</td>\n",
       "      <td>0.0</td>\n",
       "    </tr>\n",
       "    <tr>\n",
       "      <th>9</th>\n",
       "      <td>10-01-2015</td>\n",
       "      <td>NaN</td>\n",
       "      <td>NaN</td>\n",
       "      <td>NaN</td>\n",
       "      <td>NaN</td>\n",
       "      <td>NaN</td>\n",
       "    </tr>\n",
       "  </tbody>\n",
       "</table>\n",
       "</div>"
      ],
      "text/plain": [
       "      Tanggal  Tavg  RH_avg   ss  ff_avg    RR\n",
       "0  01-01-2015  25.3    88.0  0.0     4.0  23.9\n",
       "1  02-01-2015  26.3    85.0  0.0     4.0  10.5\n",
       "2  03-01-2015  25.8    90.0  1.9     4.0   9.7\n",
       "3  04-01-2015   NaN     NaN  NaN     NaN   NaN\n",
       "4  05-01-2015  26.9    81.0  0.5     5.0   5.9\n",
       "5  06-01-2015  27.5    78.0  8.2     5.0   0.0\n",
       "6  07-01-2015  28.0    79.0  4.5     5.0   0.0\n",
       "7  08-01-2015   NaN     NaN  NaN     NaN   NaN\n",
       "8  09-01-2015  27.9    78.0  4.4     6.0   0.0\n",
       "9  10-01-2015   NaN     NaN  NaN     NaN   NaN"
      ]
     },
     "execution_count": 2,
     "metadata": {},
     "output_type": "execute_result"
    }
   ],
   "source": [
    "df = pd.read_excel('./dataset/laporan_iklim_harian_1.xlsx')\n",
    "df.head(10)"
   ]
  },
  {
   "cell_type": "markdown",
   "id": "needed-novel",
   "metadata": {
    "id": "needed-novel"
   },
   "source": [
    "### Ukuran datatset"
   ]
  },
  {
   "cell_type": "code",
   "execution_count": 3,
   "id": "powerful-reason",
   "metadata": {
    "colab": {
     "base_uri": "https://localhost:8080/"
    },
    "id": "powerful-reason",
    "outputId": "b572a49c-a3ba-4976-e4c8-4b87bfc27e2a"
   },
   "outputs": [
    {
     "data": {
      "text/plain": [
       "(2246, 6)"
      ]
     },
     "execution_count": 3,
     "metadata": {},
     "output_type": "execute_result"
    }
   ],
   "source": [
    "df.shape # bentuk/dimensi dataset (baris,kolom)"
   ]
  },
  {
   "cell_type": "markdown",
   "id": "annoying-algeria",
   "metadata": {
    "id": "annoying-algeria"
   },
   "source": [
    "### Mengganti nama kolom\n",
    "    Tavg  : Temperatur rata-rata (°C) --> temperatur \n",
    "    RH_avg: Kelembapan rata-rata (%) --> kelembapan \n",
    "    ss    : Lamanya penyinaran matahari (jam) --> lama_penyinaran \n",
    "    ff_avg: Kecepatan angin rata-rata (m/s) --> kecepatan_angin \n",
    "    RR    : Curah hujan (mm) --> curah_hujan"
   ]
  },
  {
   "cell_type": "code",
   "execution_count": 4,
   "id": "naked-posting",
   "metadata": {
    "id": "naked-posting"
   },
   "outputs": [
    {
     "data": {
      "text/html": [
       "<div>\n",
       "<style scoped>\n",
       "    .dataframe tbody tr th:only-of-type {\n",
       "        vertical-align: middle;\n",
       "    }\n",
       "\n",
       "    .dataframe tbody tr th {\n",
       "        vertical-align: top;\n",
       "    }\n",
       "\n",
       "    .dataframe thead th {\n",
       "        text-align: right;\n",
       "    }\n",
       "</style>\n",
       "<table border=\"1\" class=\"dataframe\">\n",
       "  <thead>\n",
       "    <tr style=\"text-align: right;\">\n",
       "      <th></th>\n",
       "      <th>tanggal</th>\n",
       "      <th>temperatur</th>\n",
       "      <th>kelembapan</th>\n",
       "      <th>lama_penyinaran</th>\n",
       "      <th>kecepatan_angin</th>\n",
       "      <th>curah_hujan</th>\n",
       "    </tr>\n",
       "  </thead>\n",
       "  <tbody>\n",
       "    <tr>\n",
       "      <th>0</th>\n",
       "      <td>01-01-2015</td>\n",
       "      <td>25.3</td>\n",
       "      <td>88.0</td>\n",
       "      <td>0.0</td>\n",
       "      <td>4.0</td>\n",
       "      <td>23.9</td>\n",
       "    </tr>\n",
       "    <tr>\n",
       "      <th>1</th>\n",
       "      <td>02-01-2015</td>\n",
       "      <td>26.3</td>\n",
       "      <td>85.0</td>\n",
       "      <td>0.0</td>\n",
       "      <td>4.0</td>\n",
       "      <td>10.5</td>\n",
       "    </tr>\n",
       "    <tr>\n",
       "      <th>2</th>\n",
       "      <td>03-01-2015</td>\n",
       "      <td>25.8</td>\n",
       "      <td>90.0</td>\n",
       "      <td>1.9</td>\n",
       "      <td>4.0</td>\n",
       "      <td>9.7</td>\n",
       "    </tr>\n",
       "    <tr>\n",
       "      <th>3</th>\n",
       "      <td>04-01-2015</td>\n",
       "      <td>NaN</td>\n",
       "      <td>NaN</td>\n",
       "      <td>NaN</td>\n",
       "      <td>NaN</td>\n",
       "      <td>NaN</td>\n",
       "    </tr>\n",
       "    <tr>\n",
       "      <th>4</th>\n",
       "      <td>05-01-2015</td>\n",
       "      <td>26.9</td>\n",
       "      <td>81.0</td>\n",
       "      <td>0.5</td>\n",
       "      <td>5.0</td>\n",
       "      <td>5.9</td>\n",
       "    </tr>\n",
       "  </tbody>\n",
       "</table>\n",
       "</div>"
      ],
      "text/plain": [
       "      tanggal  temperatur  kelembapan  lama_penyinaran  kecepatan_angin  \\\n",
       "0  01-01-2015        25.3        88.0              0.0              4.0   \n",
       "1  02-01-2015        26.3        85.0              0.0              4.0   \n",
       "2  03-01-2015        25.8        90.0              1.9              4.0   \n",
       "3  04-01-2015         NaN         NaN              NaN              NaN   \n",
       "4  05-01-2015        26.9        81.0              0.5              5.0   \n",
       "\n",
       "   curah_hujan  \n",
       "0         23.9  \n",
       "1         10.5  \n",
       "2          9.7  \n",
       "3          NaN  \n",
       "4          5.9  "
      ]
     },
     "execution_count": 4,
     "metadata": {},
     "output_type": "execute_result"
    }
   ],
   "source": [
    "df = df.rename(columns={'Tanggal':'tanggal','Tavg':'temperatur', 'RH_avg':'kelembapan',\n",
    "                        'ss':'lama_penyinaran','ff_avg':'kecepatan_angin', 'RR':'curah_hujan'})\n",
    "df.head()"
   ]
  },
  {
   "cell_type": "markdown",
   "id": "arbitrary-gateway",
   "metadata": {
    "id": "arbitrary-gateway"
   },
   "source": [
    "### Mengenali apakah ada missing values"
   ]
  },
  {
   "cell_type": "code",
   "execution_count": 5,
   "id": "provincial-newton",
   "metadata": {
    "colab": {
     "base_uri": "https://localhost:8080/"
    },
    "id": "provincial-newton",
    "outputId": "2f8aa200-8574-469f-d4f0-1ec9cbc30cde"
   },
   "outputs": [
    {
     "data": {
      "text/plain": [
       "True"
      ]
     },
     "execution_count": 5,
     "metadata": {},
     "output_type": "execute_result"
    }
   ],
   "source": [
    "df.isna().values.any() # mendeteksi keberadaan nilai kosong"
   ]
  },
  {
   "cell_type": "markdown",
   "id": "liable-healing",
   "metadata": {
    "id": "liable-healing"
   },
   "source": [
    "### Menghapus baris yang mengandung missing values"
   ]
  },
  {
   "cell_type": "code",
   "execution_count": 6,
   "id": "supported-trauma",
   "metadata": {
    "colab": {
     "base_uri": "https://localhost:8080/",
     "height": 419
    },
    "id": "supported-trauma",
    "outputId": "d837e179-6a50-4529-9b38-1e0c62cbc18f"
   },
   "outputs": [
    {
     "data": {
      "text/plain": [
       "(1944, 6)"
      ]
     },
     "execution_count": 6,
     "metadata": {},
     "output_type": "execute_result"
    }
   ],
   "source": [
    "df = df.dropna(axis='rows')\n",
    "df.shape"
   ]
  },
  {
   "cell_type": "code",
   "execution_count": 7,
   "id": "certified-ridge",
   "metadata": {
    "colab": {
     "base_uri": "https://localhost:8080/"
    },
    "id": "certified-ridge",
    "outputId": "8e0f6365-6749-4c41-b397-1415b8769a40",
    "scrolled": true
   },
   "outputs": [
    {
     "data": {
      "text/plain": [
       "tanggal            0\n",
       "temperatur         0\n",
       "kelembapan         0\n",
       "lama_penyinaran    0\n",
       "kecepatan_angin    0\n",
       "curah_hujan        0\n",
       "dtype: int64"
      ]
     },
     "execution_count": 7,
     "metadata": {},
     "output_type": "execute_result"
    }
   ],
   "source": [
    "df.isna().sum()"
   ]
  },
  {
   "cell_type": "markdown",
   "id": "temporal-stanley",
   "metadata": {
    "id": "temporal-stanley"
   },
   "source": [
    "### Menghapus row di kolom curah hujan yang mengandung 8888 dan 9999\n",
    "8888 : Data tidak terukur <br/>\n",
    "9999 : Tidak Ada Data (tidak dilakukan pengukuran)"
   ]
  },
  {
   "cell_type": "code",
   "execution_count": 8,
   "id": "artificial-cornwall",
   "metadata": {
    "colab": {
     "base_uri": "https://localhost:8080/"
    },
    "id": "artificial-cornwall",
    "outputId": "98fb8236-7293-497e-f96b-b8490de104d9"
   },
   "outputs": [
    {
     "data": {
      "text/plain": [
       "(1858, 6)"
      ]
     },
     "execution_count": 8,
     "metadata": {},
     "output_type": "execute_result"
    }
   ],
   "source": [
    "df = df[(df['curah_hujan'] != 8888) & (df['curah_hujan'] != 9999)]\n",
    "df.shape"
   ]
  },
  {
   "cell_type": "markdown",
   "id": "rising-consolidation",
   "metadata": {
    "id": "rising-consolidation"
   },
   "source": [
    "### Mengenali duplicat baris"
   ]
  },
  {
   "cell_type": "code",
   "execution_count": 9,
   "id": "executive-baltimore",
   "metadata": {
    "colab": {
     "base_uri": "https://localhost:8080/"
    },
    "id": "executive-baltimore",
    "outputId": "a0e5768a-af08-4610-df35-df33b1db3d63",
    "scrolled": false
   },
   "outputs": [
    {
     "data": {
      "text/plain": [
       "False    1858\n",
       "dtype: int64"
      ]
     },
     "execution_count": 9,
     "metadata": {},
     "output_type": "execute_result"
    }
   ],
   "source": [
    "df.duplicated().value_counts() # hitung jumlah duplikasi data"
   ]
  },
  {
   "cell_type": "markdown",
   "id": "realistic-hollow",
   "metadata": {},
   "source": [
    "### Mereset ulang index dari nol"
   ]
  },
  {
   "cell_type": "code",
   "execution_count": 10,
   "id": "7q_QY-NFsyQt",
   "metadata": {
    "colab": {
     "base_uri": "https://localhost:8080/",
     "height": 419
    },
    "id": "7q_QY-NFsyQt",
    "outputId": "78752971-5ca2-44a7-bb44-a4f8993e69d1",
    "scrolled": false
   },
   "outputs": [
    {
     "data": {
      "text/html": [
       "<div>\n",
       "<style scoped>\n",
       "    .dataframe tbody tr th:only-of-type {\n",
       "        vertical-align: middle;\n",
       "    }\n",
       "\n",
       "    .dataframe tbody tr th {\n",
       "        vertical-align: top;\n",
       "    }\n",
       "\n",
       "    .dataframe thead th {\n",
       "        text-align: right;\n",
       "    }\n",
       "</style>\n",
       "<table border=\"1\" class=\"dataframe\">\n",
       "  <thead>\n",
       "    <tr style=\"text-align: right;\">\n",
       "      <th></th>\n",
       "      <th>tanggal</th>\n",
       "      <th>temperatur</th>\n",
       "      <th>kelembapan</th>\n",
       "      <th>lama_penyinaran</th>\n",
       "      <th>kecepatan_angin</th>\n",
       "      <th>curah_hujan</th>\n",
       "    </tr>\n",
       "  </thead>\n",
       "  <tbody>\n",
       "    <tr>\n",
       "      <th>0</th>\n",
       "      <td>01-01-2015</td>\n",
       "      <td>25.3</td>\n",
       "      <td>88.0</td>\n",
       "      <td>0.0</td>\n",
       "      <td>4.0</td>\n",
       "      <td>23.9</td>\n",
       "    </tr>\n",
       "    <tr>\n",
       "      <th>1</th>\n",
       "      <td>02-01-2015</td>\n",
       "      <td>26.3</td>\n",
       "      <td>85.0</td>\n",
       "      <td>0.0</td>\n",
       "      <td>4.0</td>\n",
       "      <td>10.5</td>\n",
       "    </tr>\n",
       "    <tr>\n",
       "      <th>2</th>\n",
       "      <td>03-01-2015</td>\n",
       "      <td>25.8</td>\n",
       "      <td>90.0</td>\n",
       "      <td>1.9</td>\n",
       "      <td>4.0</td>\n",
       "      <td>9.7</td>\n",
       "    </tr>\n",
       "    <tr>\n",
       "      <th>3</th>\n",
       "      <td>05-01-2015</td>\n",
       "      <td>26.9</td>\n",
       "      <td>81.0</td>\n",
       "      <td>0.5</td>\n",
       "      <td>5.0</td>\n",
       "      <td>5.9</td>\n",
       "    </tr>\n",
       "    <tr>\n",
       "      <th>4</th>\n",
       "      <td>06-01-2015</td>\n",
       "      <td>27.5</td>\n",
       "      <td>78.0</td>\n",
       "      <td>8.2</td>\n",
       "      <td>5.0</td>\n",
       "      <td>0.0</td>\n",
       "    </tr>\n",
       "    <tr>\n",
       "      <th>...</th>\n",
       "      <td>...</td>\n",
       "      <td>...</td>\n",
       "      <td>...</td>\n",
       "      <td>...</td>\n",
       "      <td>...</td>\n",
       "      <td>...</td>\n",
       "    </tr>\n",
       "    <tr>\n",
       "      <th>1853</th>\n",
       "      <td>21-03-2021</td>\n",
       "      <td>28.2</td>\n",
       "      <td>78.0</td>\n",
       "      <td>4.9</td>\n",
       "      <td>3.0</td>\n",
       "      <td>1.6</td>\n",
       "    </tr>\n",
       "    <tr>\n",
       "      <th>1854</th>\n",
       "      <td>22-03-2021</td>\n",
       "      <td>28.5</td>\n",
       "      <td>76.0</td>\n",
       "      <td>8.0</td>\n",
       "      <td>3.0</td>\n",
       "      <td>0.0</td>\n",
       "    </tr>\n",
       "    <tr>\n",
       "      <th>1855</th>\n",
       "      <td>23-03-2021</td>\n",
       "      <td>27.5</td>\n",
       "      <td>79.0</td>\n",
       "      <td>10.1</td>\n",
       "      <td>3.0</td>\n",
       "      <td>0.0</td>\n",
       "    </tr>\n",
       "    <tr>\n",
       "      <th>1856</th>\n",
       "      <td>24-03-2021</td>\n",
       "      <td>27.8</td>\n",
       "      <td>74.0</td>\n",
       "      <td>8.6</td>\n",
       "      <td>4.0</td>\n",
       "      <td>0.0</td>\n",
       "    </tr>\n",
       "    <tr>\n",
       "      <th>1857</th>\n",
       "      <td>25-03-2021</td>\n",
       "      <td>27.6</td>\n",
       "      <td>78.0</td>\n",
       "      <td>6.1</td>\n",
       "      <td>3.0</td>\n",
       "      <td>0.0</td>\n",
       "    </tr>\n",
       "  </tbody>\n",
       "</table>\n",
       "<p>1858 rows × 6 columns</p>\n",
       "</div>"
      ],
      "text/plain": [
       "         tanggal  temperatur  kelembapan  lama_penyinaran  kecepatan_angin  \\\n",
       "0     01-01-2015        25.3        88.0              0.0              4.0   \n",
       "1     02-01-2015        26.3        85.0              0.0              4.0   \n",
       "2     03-01-2015        25.8        90.0              1.9              4.0   \n",
       "3     05-01-2015        26.9        81.0              0.5              5.0   \n",
       "4     06-01-2015        27.5        78.0              8.2              5.0   \n",
       "...          ...         ...         ...              ...              ...   \n",
       "1853  21-03-2021        28.2        78.0              4.9              3.0   \n",
       "1854  22-03-2021        28.5        76.0              8.0              3.0   \n",
       "1855  23-03-2021        27.5        79.0             10.1              3.0   \n",
       "1856  24-03-2021        27.8        74.0              8.6              4.0   \n",
       "1857  25-03-2021        27.6        78.0              6.1              3.0   \n",
       "\n",
       "      curah_hujan  \n",
       "0            23.9  \n",
       "1            10.5  \n",
       "2             9.7  \n",
       "3             5.9  \n",
       "4             0.0  \n",
       "...           ...  \n",
       "1853          1.6  \n",
       "1854          0.0  \n",
       "1855          0.0  \n",
       "1856          0.0  \n",
       "1857          0.0  \n",
       "\n",
       "[1858 rows x 6 columns]"
      ]
     },
     "execution_count": 10,
     "metadata": {},
     "output_type": "execute_result"
    }
   ],
   "source": [
    "df = df.reset_index(drop=True)\n",
    "df"
   ]
  },
  {
   "cell_type": "markdown",
   "id": "worthy-schema",
   "metadata": {
    "id": "worthy-schema"
   },
   "source": [
    "### Menambahkan kolom status dari kategori curah_hujan\n",
    "sumber : https://www.bmkg.go.id/cuaca/probabilistik-curah-hujan.bmkg"
   ]
  },
  {
   "cell_type": "code",
   "execution_count": 11,
   "id": "alive-coalition",
   "metadata": {
    "colab": {
     "base_uri": "https://localhost:8080/",
     "height": 521
    },
    "id": "alive-coalition",
    "outputId": "f48f6b8f-7c15-4829-a719-f8519d1d8220",
    "scrolled": false
   },
   "outputs": [],
   "source": [
    "df['status'] = pd.cut(df['curah_hujan'],\n",
    "                      bins = [0, 0.5, 20, 50, 100, 150],\n",
    "                      labels=['berawan', 'hujan ringan', 'hujan sedang',\n",
    "                              'hujan lebat', 'hujan sangat lebat'],\n",
    "                      include_lowest=True)"
   ]
  },
  {
   "cell_type": "markdown",
   "id": "tracked-celebrity",
   "metadata": {
    "id": "tracked-celebrity"
   },
   "source": [
    "### Mengubah kolom status menjadi tipe data ordinal"
   ]
  },
  {
   "cell_type": "code",
   "execution_count": 12,
   "id": "absent-northwest",
   "metadata": {
    "colab": {
     "base_uri": "https://localhost:8080/"
    },
    "id": "absent-northwest",
    "outputId": "2cb99789-8082-4ef7-a2e8-5ff22293a679",
    "scrolled": false
   },
   "outputs": [
    {
     "data": {
      "text/plain": [
       "tanggal              object\n",
       "temperatur          float64\n",
       "kelembapan          float64\n",
       "lama_penyinaran     float64\n",
       "kecepatan_angin     float64\n",
       "curah_hujan         float64\n",
       "status             category\n",
       "dtype: object"
      ]
     },
     "execution_count": 12,
     "metadata": {},
     "output_type": "execute_result"
    }
   ],
   "source": [
    "from pandas.api.types import CategoricalDtype\n",
    "\n",
    "tingkat_curah_hujan = CategoricalDtype(['berawan', 'hujan ringan', 'hujan sedang',\n",
    "                                        'hujan lebat', 'hujan sangat lebat'], \n",
    "                                    ordered=True)\n",
    "\n",
    "df['status'] = df['status'].astype(tingkat_curah_hujan)\n",
    "df.dtypes"
   ]
  },
  {
   "cell_type": "markdown",
   "id": "recovered-asthma",
   "metadata": {},
   "source": [
    "### Menghapus kolom curah_hujan\n",
    "Karena kolom status sudah mewakilkan kolom curah_hujan, maka kolom curah_hujan tidak diperlukan"
   ]
  },
  {
   "cell_type": "code",
   "execution_count": 13,
   "id": "durable-sacramento",
   "metadata": {},
   "outputs": [
    {
     "data": {
      "text/html": [
       "<div>\n",
       "<style scoped>\n",
       "    .dataframe tbody tr th:only-of-type {\n",
       "        vertical-align: middle;\n",
       "    }\n",
       "\n",
       "    .dataframe tbody tr th {\n",
       "        vertical-align: top;\n",
       "    }\n",
       "\n",
       "    .dataframe thead th {\n",
       "        text-align: right;\n",
       "    }\n",
       "</style>\n",
       "<table border=\"1\" class=\"dataframe\">\n",
       "  <thead>\n",
       "    <tr style=\"text-align: right;\">\n",
       "      <th></th>\n",
       "      <th>tanggal</th>\n",
       "      <th>temperatur</th>\n",
       "      <th>kelembapan</th>\n",
       "      <th>lama_penyinaran</th>\n",
       "      <th>kecepatan_angin</th>\n",
       "      <th>status</th>\n",
       "    </tr>\n",
       "  </thead>\n",
       "  <tbody>\n",
       "    <tr>\n",
       "      <th>1857</th>\n",
       "      <td>25-03-2021</td>\n",
       "      <td>27.6</td>\n",
       "      <td>78.0</td>\n",
       "      <td>6.1</td>\n",
       "      <td>3.0</td>\n",
       "      <td>berawan</td>\n",
       "    </tr>\n",
       "    <tr>\n",
       "      <th>884</th>\n",
       "      <td>09-01-2018</td>\n",
       "      <td>27.3</td>\n",
       "      <td>80.0</td>\n",
       "      <td>3.8</td>\n",
       "      <td>2.0</td>\n",
       "      <td>berawan</td>\n",
       "    </tr>\n",
       "    <tr>\n",
       "      <th>882</th>\n",
       "      <td>07-01-2018</td>\n",
       "      <td>27.4</td>\n",
       "      <td>81.0</td>\n",
       "      <td>1.6</td>\n",
       "      <td>3.0</td>\n",
       "      <td>berawan</td>\n",
       "    </tr>\n",
       "    <tr>\n",
       "      <th>881</th>\n",
       "      <td>06-01-2018</td>\n",
       "      <td>27.7</td>\n",
       "      <td>74.0</td>\n",
       "      <td>1.5</td>\n",
       "      <td>5.0</td>\n",
       "      <td>berawan</td>\n",
       "    </tr>\n",
       "    <tr>\n",
       "      <th>880</th>\n",
       "      <td>05-01-2018</td>\n",
       "      <td>27.7</td>\n",
       "      <td>70.0</td>\n",
       "      <td>5.4</td>\n",
       "      <td>5.0</td>\n",
       "      <td>berawan</td>\n",
       "    </tr>\n",
       "    <tr>\n",
       "      <th>...</th>\n",
       "      <td>...</td>\n",
       "      <td>...</td>\n",
       "      <td>...</td>\n",
       "      <td>...</td>\n",
       "      <td>...</td>\n",
       "      <td>...</td>\n",
       "    </tr>\n",
       "    <tr>\n",
       "      <th>1510</th>\n",
       "      <td>01-02-2020</td>\n",
       "      <td>25.5</td>\n",
       "      <td>92.0</td>\n",
       "      <td>4.0</td>\n",
       "      <td>2.0</td>\n",
       "      <td>hujan sangat lebat</td>\n",
       "    </tr>\n",
       "    <tr>\n",
       "      <th>705</th>\n",
       "      <td>14-06-2017</td>\n",
       "      <td>26.7</td>\n",
       "      <td>83.0</td>\n",
       "      <td>0.0</td>\n",
       "      <td>2.0</td>\n",
       "      <td>hujan sangat lebat</td>\n",
       "    </tr>\n",
       "    <tr>\n",
       "      <th>1482</th>\n",
       "      <td>01-01-2020</td>\n",
       "      <td>26.7</td>\n",
       "      <td>88.0</td>\n",
       "      <td>0.5</td>\n",
       "      <td>2.0</td>\n",
       "      <td>hujan sangat lebat</td>\n",
       "    </tr>\n",
       "    <tr>\n",
       "      <th>451</th>\n",
       "      <td>18-06-2016</td>\n",
       "      <td>24.7</td>\n",
       "      <td>89.0</td>\n",
       "      <td>2.2</td>\n",
       "      <td>2.0</td>\n",
       "      <td>hujan sangat lebat</td>\n",
       "    </tr>\n",
       "    <tr>\n",
       "      <th>355</th>\n",
       "      <td>25-02-2016</td>\n",
       "      <td>26.9</td>\n",
       "      <td>88.0</td>\n",
       "      <td>4.8</td>\n",
       "      <td>2.0</td>\n",
       "      <td>hujan sangat lebat</td>\n",
       "    </tr>\n",
       "  </tbody>\n",
       "</table>\n",
       "<p>1858 rows × 6 columns</p>\n",
       "</div>"
      ],
      "text/plain": [
       "         tanggal  temperatur  kelembapan  lama_penyinaran  kecepatan_angin  \\\n",
       "1857  25-03-2021        27.6        78.0              6.1              3.0   \n",
       "884   09-01-2018        27.3        80.0              3.8              2.0   \n",
       "882   07-01-2018        27.4        81.0              1.6              3.0   \n",
       "881   06-01-2018        27.7        74.0              1.5              5.0   \n",
       "880   05-01-2018        27.7        70.0              5.4              5.0   \n",
       "...          ...         ...         ...              ...              ...   \n",
       "1510  01-02-2020        25.5        92.0              4.0              2.0   \n",
       "705   14-06-2017        26.7        83.0              0.0              2.0   \n",
       "1482  01-01-2020        26.7        88.0              0.5              2.0   \n",
       "451   18-06-2016        24.7        89.0              2.2              2.0   \n",
       "355   25-02-2016        26.9        88.0              4.8              2.0   \n",
       "\n",
       "                  status  \n",
       "1857             berawan  \n",
       "884              berawan  \n",
       "882              berawan  \n",
       "881              berawan  \n",
       "880              berawan  \n",
       "...                  ...  \n",
       "1510  hujan sangat lebat  \n",
       "705   hujan sangat lebat  \n",
       "1482  hujan sangat lebat  \n",
       "451   hujan sangat lebat  \n",
       "355   hujan sangat lebat  \n",
       "\n",
       "[1858 rows x 6 columns]"
      ]
     },
     "execution_count": 13,
     "metadata": {},
     "output_type": "execute_result"
    }
   ],
   "source": [
    "df.drop(columns='curah_hujan', inplace=True)\n",
    "df.sort_values('status') # Tampilkan berdasarkan urutan status"
   ]
  },
  {
   "cell_type": "markdown",
   "id": "settled-mouse",
   "metadata": {},
   "source": [
    "### Mengeksport dataframe menjadi excel dan menyimpannya"
   ]
  },
  {
   "cell_type": "code",
   "execution_count": 14,
   "id": "postal-triumph",
   "metadata": {
    "id": "postal-triumph"
   },
   "outputs": [],
   "source": [
    "from pandas import ExcelWriter\n",
    "from pandas import ExcelFile"
   ]
  },
  {
   "cell_type": "code",
   "execution_count": 15,
   "id": "attached-shareware",
   "metadata": {
    "colab": {
     "base_uri": "https://localhost:8080/",
     "height": 17
    },
    "id": "attached-shareware",
    "outputId": "96ad88a5-248b-4009-c285-06949cab325a"
   },
   "outputs": [],
   "source": [
    "writer = pd.ExcelWriter('./dataset/3KA32_laporan_iklim_harian_baru.xlsx')\n",
    "df.to_excel(writer, index = False, sheet_name='Sheet1')\n",
    "writer.save()"
   ]
  }
 ],
 "metadata": {
  "colab": {
   "collapsed_sections": [
    "temporal-stanley",
    "rising-consolidation",
    "moderate-philip",
    "pregnant-factor",
    "shared-contemporary",
    "intended-mediterranean",
    "difficult-fleet"
   ],
   "name": "Untitled.ipynb",
   "provenance": []
  },
  "kernelspec": {
   "display_name": "Python 3",
   "language": "python",
   "name": "python3"
  },
  "language_info": {
   "codemirror_mode": {
    "name": "ipython",
    "version": 3
   },
   "file_extension": ".py",
   "mimetype": "text/x-python",
   "name": "python",
   "nbconvert_exporter": "python",
   "pygments_lexer": "ipython3",
   "version": "3.9.2"
  }
 },
 "nbformat": 4,
 "nbformat_minor": 5
}
